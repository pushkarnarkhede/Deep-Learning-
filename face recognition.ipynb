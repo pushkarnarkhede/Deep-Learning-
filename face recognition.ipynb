{
 "cells": [
  {
   "cell_type": "code",
   "execution_count": 2,
   "id": "c1c247d0",
   "metadata": {},
   "outputs": [],
   "source": [
    "import numpy as np\n",
    "import pandas as pd \n",
    "import seaborn as sns\n",
    "import warnings\n",
    "warnings.filterwarnings('ignore')\n",
    "import matplotlib.pyplot as plt\n"
   ]
  },
  {
   "cell_type": "code",
   "execution_count": 2,
   "id": "9cb8e0bc",
   "metadata": {},
   "outputs": [],
   "source": [
    "import matplotlib.image as mpimg\n",
    "from tensorflow import keras\n",
    "from tensorflow.keras import layers\n",
    "from keras.models import load_model\n",
    "import tensorflow as tf\n",
    "from tensorflow.python.keras import regularizers"
   ]
  },
  {
   "cell_type": "code",
   "execution_count": 3,
   "id": "b6200bae",
   "metadata": {},
   "outputs": [],
   "source": [
    "from keras.preprocessing.image import ImageDataGenerator\n",
    "from keras.models import Sequential\n",
    "from keras.layers import Conv2D, MaxPooling2D\n",
    "from keras.layers import Activation, Dropout, Flatten, Dense,BatchNormalization\n",
    "import keras"
   ]
  },
  {
   "cell_type": "markdown",
   "id": "ed7b245c",
   "metadata": {},
   "source": [
    "### Load the dataset"
   ]
  },
  {
   "cell_type": "code",
   "execution_count": null,
   "id": "e8040d87",
   "metadata": {},
   "outputs": [],
   "source": [
    "\n",
    "import splitfolders # or import splitfolders\n",
    "input_folder = \"D:\\DataSets\\__MACOSX\\Class Dataset IS3\"\n",
    "output = \"D:\\DataSets\\Class_Dataset\" #where you want the split datasets saved. one will be created if it does not exist or none is set\n",
    "\n",
    "splitfolders.ratio(input_folder, output=output, seed=42, ratio=(.8, .1, .1)) # ratio of split are in order of train/val/test. You can change to whatever you want. For train/val sets only, you could do .75, .25 for example."
   ]
  },
  {
   "cell_type": "code",
   "execution_count": 4,
   "id": "9d0671ee",
   "metadata": {},
   "outputs": [],
   "source": [
    "train_dir = r\"D:\\DataSets\\Class_Dataset\\train\"\n",
    "test_dir = r\"D:\\DataSets\\Class_Dataset\\test\"\n",
    "val_dir = r\"D:\\DataSets\\Class_Dataset\\val\""
   ]
  },
  {
   "cell_type": "code",
   "execution_count": 5,
   "id": "15c3a035",
   "metadata": {},
   "outputs": [],
   "source": [
    "train_datagen = ImageDataGenerator(rotation_range=40,\n",
    "    width_shift_range=0.2,\n",
    "        height_shift_range=0.2,\n",
    "        rescale=1./255,\n",
    "        shear_range=0.2,\n",
    "        zoom_range=0.2,\n",
    "        horizontal_flip=True,\n",
    "        fill_mode='nearest') \n",
    "\n",
    "test_datagen = ImageDataGenerator(rescale=1./255)"
   ]
  },
  {
   "cell_type": "code",
   "execution_count": 6,
   "id": "aac0be0c",
   "metadata": {},
   "outputs": [
    {
     "name": "stdout",
     "output_type": "stream",
     "text": [
      "Found 600 images belonging to 15 classes.\n",
      "Found 75 images belonging to 15 classes.\n",
      "Found 75 images belonging to 15 classes.\n"
     ]
    }
   ],
   "source": [
    "train_set = train_datagen.flow_from_directory(directory=train_dir,target_size=(224,224),batch_size=8,color_mode=\"rgb\",class_mode = 'categorical')\n",
    "val_set = train_datagen.flow_from_directory(directory=val_dir,target_size=(224,224),batch_size=8,color_mode=\"rgb\",class_mode = 'categorical')\n",
    "test_set = test_datagen.flow_from_directory(directory=test_dir,target_size=(224,224),batch_size=8,color_mode=\"rgb\",class_mode = 'categorical')"
   ]
  },
  {
   "cell_type": "code",
   "execution_count": 52,
   "id": "81d1fd05",
   "metadata": {},
   "outputs": [
    {
     "name": "stdout",
     "output_type": "stream",
     "text": [
      "{'Achal_Mate-samples': 0, 'Anushka_Hiray-samples': 1, 'Fawzaan-samples': 2, 'Lokesh-samples': 3, 'Pranav-samples': 4, 'Pushkar-samples': 5, 'Samarth-samples': 6, 'Sohail-samples': 7, 'Sumeet_Sapkal-samples': 8, 'Sunny-samples': 9, 'Susmit-samples': 10, 'Umang_Patel-samples': 11, 'Vaibhav-samples': 12, 'Vivek_Patil-samples': 13, 'Vivek_pusti-samples': 14}\n",
      "['Achal_Mate-samples', 'Anushka_Hiray-samples', 'Fawzaan-samples', 'Lokesh-samples', 'Pranav-samples', 'Pushkar-samples', 'Samarth-samples', 'Sohail-samples', 'Sumeet_Sapkal-samples', 'Sunny-samples', 'Susmit-samples', 'Umang_Patel-samples', 'Vaibhav-samples', 'Vivek_Patil-samples', 'Vivek_pusti-samples']\n"
     ]
    }
   ],
   "source": [
    "classes = test_set.class_indices\n",
    "print(classes)\n",
    "y_classes = []\n",
    "for i in classes.keys():\n",
    "    y_classes.append(i)\n",
    "    \n",
    "print(y_classes)\n",
    "    "
   ]
  },
  {
   "cell_type": "code",
   "execution_count": 21,
   "id": "c1152351",
   "metadata": {},
   "outputs": [
    {
     "name": "stdout",
     "output_type": "stream",
     "text": [
      "Model: \"sequential_3\"\n",
      "_________________________________________________________________\n",
      " Layer (type)                Output Shape              Param #   \n",
      "=================================================================\n",
      " conv2d_6 (Conv2D)           (None, 222, 222, 32)      896       \n",
      "                                                                 \n",
      " max_pooling2d_6 (MaxPooling  (None, 111, 111, 32)     0         \n",
      " 2D)                                                             \n",
      "                                                                 \n",
      " dropout_6 (Dropout)         (None, 111, 111, 32)      0         \n",
      "                                                                 \n",
      " conv2d_7 (Conv2D)           (None, 109, 109, 64)      18496     \n",
      "                                                                 \n",
      " max_pooling2d_7 (MaxPooling  (None, 54, 54, 64)       0         \n",
      " 2D)                                                             \n",
      "                                                                 \n",
      " flatten_3 (Flatten)         (None, 186624)            0         \n",
      "                                                                 \n",
      " dropout_7 (Dropout)         (None, 186624)            0         \n",
      "                                                                 \n",
      " dense_5 (Dense)             (None, 15)                2799375   \n",
      "                                                                 \n",
      "=================================================================\n",
      "Total params: 2,818,767\n",
      "Trainable params: 2,818,767\n",
      "Non-trainable params: 0\n",
      "_________________________________________________________________\n"
     ]
    }
   ],
   "source": [
    "model = Sequential()\n",
    "model.add(Conv2D(32, (3, 3), input_shape=(224,224,3),activation = \"relu\"))\n",
    "model.add(MaxPooling2D(pool_size=(2,2)))\n",
    "model.add(Dropout(0.50))\n",
    "\n",
    "\n",
    "model.add(Conv2D(64,(3,3),activation='relu',kernel_regularizer=regularizers.l2(0.001)))\n",
    "model.add(MaxPooling2D(pool_size=(2,2)))\n",
    "\n",
    "model.add(Flatten())\n",
    "model.add(Dropout(0.50))\n",
    "model.add(Dense(15, activation='softmax'))\n",
    "model.summary()"
   ]
  },
  {
   "cell_type": "code",
   "execution_count": 22,
   "id": "0566486e",
   "metadata": {},
   "outputs": [],
   "source": [
    "model.compile(optimizer='adam',loss='binary_crossentropy',metrics=['accuracy'])"
   ]
  },
  {
   "cell_type": "code",
   "execution_count": 23,
   "id": "862439de",
   "metadata": {},
   "outputs": [],
   "source": [
    "batch_size = 5\n",
    "no_epochs = 100\n",
    "steps_per_epochs = no_epochs // batch_size"
   ]
  },
  {
   "cell_type": "code",
   "execution_count": 24,
   "id": "b2eeb97e",
   "metadata": {},
   "outputs": [
    {
     "name": "stdout",
     "output_type": "stream",
     "text": [
      "Epoch 1/100\n",
      "20/20 [==============================] - 10s 479ms/step - loss: 0.8471 - accuracy: 0.0750 - val_loss: 0.7198 - val_accuracy: 0.1067\n",
      "Epoch 2/100\n",
      "20/20 [==============================] - 9s 451ms/step - loss: 0.2952 - accuracy: 0.0875 - val_loss: 0.6849 - val_accuracy: 0.1333\n",
      "Epoch 3/100\n",
      "20/20 [==============================] - 9s 475ms/step - loss: 0.2761 - accuracy: 0.0625 - val_loss: 0.7113 - val_accuracy: 0.0667\n",
      "Epoch 4/100\n",
      "20/20 [==============================] - 9s 472ms/step - loss: 0.2675 - accuracy: 0.1312 - val_loss: 0.7084 - val_accuracy: 0.0533\n",
      "Epoch 5/100\n",
      "20/20 [==============================] - 10s 507ms/step - loss: 0.2616 - accuracy: 0.1437 - val_loss: 0.7031 - val_accuracy: 0.1067\n",
      "Epoch 6/100\n",
      "20/20 [==============================] - 9s 475ms/step - loss: 0.2613 - accuracy: 0.1000 - val_loss: 0.7073 - val_accuracy: 0.0667\n",
      "Epoch 7/100\n",
      "20/20 [==============================] - 10s 512ms/step - loss: 0.2561 - accuracy: 0.1688 - val_loss: 0.7033 - val_accuracy: 0.1333\n",
      "Epoch 8/100\n",
      "20/20 [==============================] - 10s 527ms/step - loss: 0.2489 - accuracy: 0.2313 - val_loss: 0.6710 - val_accuracy: 0.0667\n",
      "Epoch 9/100\n",
      "20/20 [==============================] - 10s 486ms/step - loss: 0.2373 - accuracy: 0.2313 - val_loss: 0.6016 - val_accuracy: 0.1733\n",
      "Epoch 10/100\n",
      "20/20 [==============================] - 10s 518ms/step - loss: 0.2323 - accuracy: 0.2313 - val_loss: 0.5877 - val_accuracy: 0.2667\n",
      "Epoch 11/100\n",
      "20/20 [==============================] - 10s 485ms/step - loss: 0.2172 - accuracy: 0.3750 - val_loss: 0.3955 - val_accuracy: 0.3600\n",
      "Epoch 12/100\n",
      "20/20 [==============================] - 10s 493ms/step - loss: 0.1976 - accuracy: 0.4375 - val_loss: 0.3463 - val_accuracy: 0.3200\n",
      "Epoch 13/100\n",
      "20/20 [==============================] - 10s 501ms/step - loss: 0.1995 - accuracy: 0.3688 - val_loss: 0.3519 - val_accuracy: 0.4133\n",
      "Epoch 14/100\n",
      "20/20 [==============================] - 10s 505ms/step - loss: 0.1880 - accuracy: 0.4187 - val_loss: 0.2995 - val_accuracy: 0.4533\n",
      "Epoch 15/100\n",
      "20/20 [==============================] - 10s 503ms/step - loss: 0.1765 - accuracy: 0.4688 - val_loss: 0.2756 - val_accuracy: 0.4933\n",
      "Epoch 16/100\n",
      "20/20 [==============================] - 10s 477ms/step - loss: 0.1724 - accuracy: 0.5688 - val_loss: 0.3122 - val_accuracy: 0.4000\n",
      "Epoch 17/100\n",
      "20/20 [==============================] - 10s 507ms/step - loss: 0.1719 - accuracy: 0.5125 - val_loss: 0.2399 - val_accuracy: 0.5600\n",
      "Epoch 18/100\n",
      "20/20 [==============================] - 10s 481ms/step - loss: 0.1593 - accuracy: 0.5750 - val_loss: 0.2223 - val_accuracy: 0.5333\n",
      "Epoch 19/100\n",
      "20/20 [==============================] - 10s 509ms/step - loss: 0.1412 - accuracy: 0.6562 - val_loss: 0.2065 - val_accuracy: 0.6000\n",
      "Epoch 20/100\n",
      "20/20 [==============================] - 10s 500ms/step - loss: 0.1606 - accuracy: 0.5813 - val_loss: 0.2321 - val_accuracy: 0.5733\n",
      "Epoch 21/100\n",
      "20/20 [==============================] - 10s 507ms/step - loss: 0.1487 - accuracy: 0.6438 - val_loss: 0.1893 - val_accuracy: 0.6667\n",
      "Epoch 22/100\n",
      "20/20 [==============================] - 10s 491ms/step - loss: 0.1471 - accuracy: 0.6625 - val_loss: 0.2132 - val_accuracy: 0.6000\n",
      "Epoch 23/100\n",
      "20/20 [==============================] - 10s 515ms/step - loss: 0.1475 - accuracy: 0.6125 - val_loss: 0.1874 - val_accuracy: 0.6800\n",
      "Epoch 24/100\n",
      "20/20 [==============================] - 10s 484ms/step - loss: 0.1465 - accuracy: 0.6625 - val_loss: 0.1589 - val_accuracy: 0.8133\n",
      "Epoch 25/100\n",
      "20/20 [==============================] - 10s 511ms/step - loss: 0.1416 - accuracy: 0.6313 - val_loss: 0.1953 - val_accuracy: 0.6133\n",
      "Epoch 26/100\n",
      "20/20 [==============================] - 10s 490ms/step - loss: 0.1321 - accuracy: 0.7125 - val_loss: 0.1579 - val_accuracy: 0.7733\n",
      "Epoch 27/100\n",
      "20/20 [==============================] - 10s 512ms/step - loss: 0.1209 - accuracy: 0.7312 - val_loss: 0.1719 - val_accuracy: 0.8533\n",
      "Epoch 28/100\n",
      "20/20 [==============================] - 10s 484ms/step - loss: 0.1185 - accuracy: 0.7688 - val_loss: 0.1546 - val_accuracy: 0.6800\n",
      "Epoch 29/100\n",
      "20/20 [==============================] - 10s 514ms/step - loss: 0.1112 - accuracy: 0.7937 - val_loss: 0.1243 - val_accuracy: 0.8800\n",
      "Epoch 30/100\n",
      "20/20 [==============================] - 10s 505ms/step - loss: 0.1039 - accuracy: 0.7875 - val_loss: 0.1372 - val_accuracy: 0.7333\n",
      "Epoch 31/100\n",
      "20/20 [==============================] - 10s 476ms/step - loss: 0.1163 - accuracy: 0.8250 - val_loss: 0.1172 - val_accuracy: 0.8667\n",
      "Epoch 32/100\n",
      "20/20 [==============================] - 10s 489ms/step - loss: 0.1142 - accuracy: 0.7812 - val_loss: 0.1456 - val_accuracy: 0.7600\n",
      "Epoch 33/100\n",
      "20/20 [==============================] - 10s 509ms/step - loss: 0.1006 - accuracy: 0.8000 - val_loss: 0.1154 - val_accuracy: 0.8000\n",
      "Epoch 34/100\n",
      "20/20 [==============================] - 10s 495ms/step - loss: 0.1024 - accuracy: 0.7937 - val_loss: 0.1292 - val_accuracy: 0.7867\n",
      "Epoch 35/100\n",
      "20/20 [==============================] - 10s 498ms/step - loss: 0.1022 - accuracy: 0.8062 - val_loss: 0.1329 - val_accuracy: 0.7867\n",
      "Epoch 36/100\n",
      "20/20 [==============================] - 10s 496ms/step - loss: 0.1097 - accuracy: 0.7812 - val_loss: 0.1210 - val_accuracy: 0.8133\n",
      "Epoch 37/100\n",
      "20/20 [==============================] - 10s 510ms/step - loss: 0.0938 - accuracy: 0.8438 - val_loss: 0.1371 - val_accuracy: 0.8400\n",
      "Epoch 38/100\n",
      "20/20 [==============================] - 10s 479ms/step - loss: 0.0880 - accuracy: 0.8500 - val_loss: 0.1035 - val_accuracy: 0.9067\n",
      "Epoch 39/100\n",
      "20/20 [==============================] - 10s 498ms/step - loss: 0.0898 - accuracy: 0.8125 - val_loss: 0.0955 - val_accuracy: 0.9333\n",
      "Epoch 40/100\n",
      "20/20 [==============================] - 10s 494ms/step - loss: 0.0887 - accuracy: 0.8500 - val_loss: 0.0993 - val_accuracy: 0.9333\n",
      "Epoch 41/100\n",
      "20/20 [==============================] - 10s 511ms/step - loss: 0.0889 - accuracy: 0.8250 - val_loss: 0.1115 - val_accuracy: 0.8800\n",
      "Epoch 42/100\n",
      "20/20 [==============================] - 10s 487ms/step - loss: 0.0706 - accuracy: 0.9312 - val_loss: 0.0883 - val_accuracy: 0.9200\n",
      "Epoch 43/100\n",
      "20/20 [==============================] - 10s 511ms/step - loss: 0.0756 - accuracy: 0.9125 - val_loss: 0.1004 - val_accuracy: 0.9733\n",
      "Epoch 44/100\n",
      "20/20 [==============================] - 10s 485ms/step - loss: 0.0760 - accuracy: 0.8938 - val_loss: 0.1117 - val_accuracy: 0.8800\n",
      "Epoch 45/100\n",
      "20/20 [==============================] - 10s 513ms/step - loss: 0.0845 - accuracy: 0.8125 - val_loss: 0.0994 - val_accuracy: 0.9200\n",
      "Epoch 46/100\n",
      "20/20 [==============================] - 10s 504ms/step - loss: 0.0761 - accuracy: 0.8750 - val_loss: 0.0941 - val_accuracy: 0.8933\n",
      "Epoch 47/100\n",
      "20/20 [==============================] - 10s 494ms/step - loss: 0.0708 - accuracy: 0.9062 - val_loss: 0.0736 - val_accuracy: 0.9467\n",
      "Epoch 48/100\n",
      "20/20 [==============================] - 10s 486ms/step - loss: 0.0632 - accuracy: 0.9312 - val_loss: 0.0894 - val_accuracy: 0.9200\n",
      "Epoch 49/100\n",
      "20/20 [==============================] - 10s 512ms/step - loss: 0.0639 - accuracy: 0.9000 - val_loss: 0.0975 - val_accuracy: 0.8933\n",
      "Epoch 50/100\n",
      "20/20 [==============================] - 10s 508ms/step - loss: 0.0639 - accuracy: 0.9062 - val_loss: 0.0925 - val_accuracy: 0.9333\n",
      "Epoch 51/100\n",
      "20/20 [==============================] - 10s 489ms/step - loss: 0.0565 - accuracy: 0.9187 - val_loss: 0.0733 - val_accuracy: 0.9067\n",
      "Epoch 52/100\n",
      "20/20 [==============================] - 10s 481ms/step - loss: 0.0683 - accuracy: 0.9125 - val_loss: 0.1053 - val_accuracy: 0.9067\n",
      "Epoch 53/100\n",
      "20/20 [==============================] - 10s 498ms/step - loss: 0.0698 - accuracy: 0.8938 - val_loss: 0.0858 - val_accuracy: 0.9467\n",
      "Epoch 54/100\n",
      "20/20 [==============================] - 10s 498ms/step - loss: 0.0595 - accuracy: 0.9500 - val_loss: 0.0653 - val_accuracy: 0.9333\n",
      "Epoch 55/100\n",
      "20/20 [==============================] - 10s 517ms/step - loss: 0.0777 - accuracy: 0.8750 - val_loss: 0.0756 - val_accuracy: 0.8800\n",
      "Epoch 56/100\n",
      "20/20 [==============================] - 10s 491ms/step - loss: 0.0695 - accuracy: 0.8938 - val_loss: 0.1031 - val_accuracy: 0.8667\n",
      "Epoch 57/100\n",
      "20/20 [==============================] - 10s 470ms/step - loss: 0.0523 - accuracy: 0.9500 - val_loss: 0.0770 - val_accuracy: 0.9333\n",
      "Epoch 58/100\n",
      "20/20 [==============================] - 10s 499ms/step - loss: 0.0627 - accuracy: 0.9062 - val_loss: 0.0614 - val_accuracy: 0.9467\n",
      "Epoch 59/100\n",
      "20/20 [==============================] - 10s 519ms/step - loss: 0.0404 - accuracy: 0.9812 - val_loss: 0.0548 - val_accuracy: 0.9600\n",
      "Epoch 60/100\n",
      "20/20 [==============================] - 9s 479ms/step - loss: 0.0623 - accuracy: 0.8938 - val_loss: 0.0983 - val_accuracy: 0.9200\n",
      "Epoch 61/100\n",
      "20/20 [==============================] - 10s 504ms/step - loss: 0.0527 - accuracy: 0.9062 - val_loss: 0.0673 - val_accuracy: 0.9600\n",
      "Epoch 62/100\n",
      "20/20 [==============================] - 11s 529ms/step - loss: 0.0516 - accuracy: 0.9062 - val_loss: 0.0716 - val_accuracy: 0.9467\n",
      "Epoch 63/100\n",
      "20/20 [==============================] - 11s 541ms/step - loss: 0.0502 - accuracy: 0.9312 - val_loss: 0.0488 - val_accuracy: 0.9867\n",
      "Epoch 64/100\n",
      "20/20 [==============================] - 10s 513ms/step - loss: 0.0421 - accuracy: 0.9625 - val_loss: 0.0486 - val_accuracy: 0.9733\n",
      "Epoch 65/100\n",
      "20/20 [==============================] - 10s 482ms/step - loss: 0.0535 - accuracy: 0.9125 - val_loss: 0.0830 - val_accuracy: 0.9067\n",
      "Epoch 66/100\n",
      "20/20 [==============================] - 10s 518ms/step - loss: 0.0553 - accuracy: 0.9062 - val_loss: 0.0636 - val_accuracy: 0.9733\n",
      "Epoch 67/100\n",
      "20/20 [==============================] - 10s 498ms/step - loss: 0.0460 - accuracy: 0.9438 - val_loss: 0.0649 - val_accuracy: 0.9333\n",
      "Epoch 68/100\n",
      "20/20 [==============================] - 10s 509ms/step - loss: 0.0569 - accuracy: 0.9250 - val_loss: 0.0580 - val_accuracy: 0.9333\n",
      "Epoch 69/100\n",
      "20/20 [==============================] - 10s 483ms/step - loss: 0.0444 - accuracy: 0.9812 - val_loss: 0.0599 - val_accuracy: 0.9333\n",
      "Epoch 70/100\n",
      "20/20 [==============================] - 10s 490ms/step - loss: 0.0507 - accuracy: 0.9563 - val_loss: 0.0614 - val_accuracy: 0.9600\n",
      "Epoch 71/100\n",
      "20/20 [==============================] - 10s 502ms/step - loss: 0.0429 - accuracy: 0.9625 - val_loss: 0.0564 - val_accuracy: 0.9733\n",
      "Epoch 72/100\n",
      "20/20 [==============================] - 10s 487ms/step - loss: 0.0421 - accuracy: 0.9438 - val_loss: 0.0527 - val_accuracy: 0.9733\n",
      "Epoch 73/100\n",
      "20/20 [==============================] - 10s 510ms/step - loss: 0.0453 - accuracy: 0.9625 - val_loss: 0.0720 - val_accuracy: 0.9200\n",
      "Epoch 74/100\n",
      "20/20 [==============================] - 10s 490ms/step - loss: 0.0454 - accuracy: 0.9438 - val_loss: 0.0544 - val_accuracy: 0.9733\n",
      "Epoch 75/100\n",
      "20/20 [==============================] - 11s 535ms/step - loss: 0.0416 - accuracy: 0.9625 - val_loss: 0.0866 - val_accuracy: 0.9333\n",
      "Epoch 76/100\n",
      "20/20 [==============================] - 10s 482ms/step - loss: 0.0458 - accuracy: 0.9375 - val_loss: 0.0504 - val_accuracy: 0.9333\n",
      "Epoch 77/100\n",
      "20/20 [==============================] - 10s 508ms/step - loss: 0.0456 - accuracy: 0.9688 - val_loss: 0.0701 - val_accuracy: 0.9600\n",
      "Epoch 78/100\n",
      "20/20 [==============================] - 10s 496ms/step - loss: 0.0491 - accuracy: 0.9438 - val_loss: 0.0626 - val_accuracy: 0.9733\n",
      "Epoch 79/100\n",
      "20/20 [==============================] - 10s 503ms/step - loss: 0.0437 - accuracy: 0.9438 - val_loss: 0.0616 - val_accuracy: 0.9600\n",
      "Epoch 80/100\n",
      "20/20 [==============================] - 9s 478ms/step - loss: 0.0420 - accuracy: 0.9500 - val_loss: 0.0411 - val_accuracy: 0.9867\n",
      "Epoch 81/100\n",
      "20/20 [==============================] - 10s 508ms/step - loss: 0.0384 - accuracy: 0.9688 - val_loss: 0.0471 - val_accuracy: 0.9467\n",
      "Epoch 82/100\n",
      "20/20 [==============================] - 10s 483ms/step - loss: 0.0370 - accuracy: 0.9500 - val_loss: 0.0443 - val_accuracy: 0.9867\n",
      "Epoch 83/100\n",
      "20/20 [==============================] - 10s 514ms/step - loss: 0.0333 - accuracy: 0.9937 - val_loss: 0.0685 - val_accuracy: 0.9467\n",
      "Epoch 84/100\n",
      "20/20 [==============================] - 10s 494ms/step - loss: 0.0341 - accuracy: 0.9500 - val_loss: 0.0488 - val_accuracy: 0.9333\n",
      "Epoch 85/100\n",
      "20/20 [==============================] - 10s 509ms/step - loss: 0.0388 - accuracy: 0.9438 - val_loss: 0.0450 - val_accuracy: 0.9867\n",
      "Epoch 86/100\n",
      "20/20 [==============================] - 10s 498ms/step - loss: 0.0311 - accuracy: 0.9750 - val_loss: 0.0585 - val_accuracy: 0.9600\n",
      "Epoch 87/100\n",
      "20/20 [==============================] - 10s 495ms/step - loss: 0.0327 - accuracy: 0.9812 - val_loss: 0.0353 - val_accuracy: 0.9733\n",
      "Epoch 88/100\n",
      "20/20 [==============================] - 10s 495ms/step - loss: 0.0443 - accuracy: 0.9500 - val_loss: 0.0542 - val_accuracy: 0.9200\n",
      "Epoch 89/100\n",
      "20/20 [==============================] - 10s 509ms/step - loss: 0.0316 - accuracy: 0.9875 - val_loss: 0.0496 - val_accuracy: 0.9867\n",
      "Epoch 90/100\n",
      "20/20 [==============================] - 11s 530ms/step - loss: 0.0309 - accuracy: 0.9688 - val_loss: 0.0411 - val_accuracy: 0.9733\n",
      "Epoch 91/100\n",
      "20/20 [==============================] - 10s 489ms/step - loss: 0.0308 - accuracy: 0.9812 - val_loss: 0.0446 - val_accuracy: 0.9600\n",
      "Epoch 92/100\n",
      "20/20 [==============================] - 10s 506ms/step - loss: 0.0387 - accuracy: 0.9500 - val_loss: 0.0542 - val_accuracy: 0.9733\n",
      "Epoch 93/100\n",
      "20/20 [==============================] - 10s 483ms/step - loss: 0.0312 - accuracy: 0.9750 - val_loss: 0.0329 - val_accuracy: 0.9867\n",
      "Epoch 94/100\n",
      "20/20 [==============================] - 10s 523ms/step - loss: 0.0277 - accuracy: 0.9812 - val_loss: 0.0548 - val_accuracy: 0.9733\n",
      "Epoch 95/100\n",
      "20/20 [==============================] - 10s 495ms/step - loss: 0.0326 - accuracy: 0.9688 - val_loss: 0.0606 - val_accuracy: 0.9067\n",
      "Epoch 96/100\n",
      "20/20 [==============================] - 10s 508ms/step - loss: 0.0348 - accuracy: 0.9625 - val_loss: 0.0472 - val_accuracy: 0.9733\n",
      "Epoch 97/100\n",
      "20/20 [==============================] - 10s 486ms/step - loss: 0.0366 - accuracy: 0.9563 - val_loss: 0.0609 - val_accuracy: 0.9067\n",
      "Epoch 98/100\n",
      "20/20 [==============================] - 10s 517ms/step - loss: 0.0378 - accuracy: 0.9625 - val_loss: 0.0580 - val_accuracy: 0.9733\n",
      "Epoch 99/100\n",
      "20/20 [==============================] - 10s 480ms/step - loss: 0.0336 - accuracy: 0.9438 - val_loss: 0.0528 - val_accuracy: 0.9467\n",
      "Epoch 100/100\n",
      "20/20 [==============================] - 10s 497ms/step - loss: 0.0309 - accuracy: 0.9625 - val_loss: 0.0455 - val_accuracy: 0.9733\n"
     ]
    }
   ],
   "source": [
    "history = model.fit_generator(train_set,steps_per_epoch=steps_per_epochs,epochs=no_epochs,validation_data=val_set)"
   ]
  },
  {
   "cell_type": "code",
   "execution_count": 25,
   "id": "bc7798b3",
   "metadata": {},
   "outputs": [],
   "source": [
    "model.save(\"face.h5\")"
   ]
  },
  {
   "cell_type": "code",
   "execution_count": 26,
   "id": "65f6f8bc",
   "metadata": {},
   "outputs": [
    {
     "data": {
      "image/png": "[encoded data removed]",
      "text/plain": [
       "<Figure size 432x288 with 1 Axes>"
      ]
     },
     "metadata": {
      "needs_background": "light"
     },
     "output_type": "display_data"
    }
   ],
   "source": [
    "# accuracies\n",
    "\n",
    "plt.plot(history.history['accuracy'], label='train acc')\n",
    "\n",
    "plt.plot(history.history['val_accuracy'], label='val acc')\n",
    "\n",
    "plt.legend()\n",
    "\n",
    "plt.savefig('face-acc-rps-1.png')\n",
    "\n",
    "plt.show()"
   ]
  },
  {
   "cell_type": "code",
   "execution_count": 27,
   "id": "5423117f",
   "metadata": {},
   "outputs": [
    {
     "data": {
      "image/png": "[encoded data removed]",
      "text/plain": [
       "<Figure size 432x288 with 1 Axes>"
      ]
     },
     "metadata": {
      "needs_background": "light"
     },
     "output_type": "display_data"
    }
   ],
   "source": [
    "# loss\n",
    "plt.plot(history.history['loss'], label='train loss')\n",
    "plt.plot(history.history['val_loss'], label='val loss')\n",
    "plt.legend()\n",
    "plt.savefig('face-loss-rps-1.png')\n",
    "plt.show()"
   ]
  },
  {
   "cell_type": "code",
   "execution_count": 31,
   "id": "32945d44",
   "metadata": {},
   "outputs": [],
   "source": [
    "import numpy as np\n",
    "from keras.preprocessing import image\n",
    "from tensorflow.keras.utils import load_img, img_to_array "
   ]
  },
  {
   "cell_type": "code",
   "execution_count": 1,
   "id": "cc044078",
   "metadata": {},
   "outputs": [],
   "source": [
    "path = r'D:\\DataSets\\Class_Dataset\\test\\Pushkar-narkheede-samples\\22.jpg'\n",
    "img = load_img(path, target_size=(224,224))\n",
    "plt.imshow(img, cmap='gray')\n",
    "plt.show()\n",
    "\n",
    "x = img_to_array(img)\n",
    "x = np.expand_dims(x, axis=0)\n",
    "\n",
    "\n",
    "#images = np.vstack([x])\n",
    "classes = model.predict(x)\n",
    "print(\"Prediction is : \",y_classes[classes.argmax(axis=-1)[0]])"
   ]
  },
  {
   "cell_type": "markdown",
   "id": "b096922a",
   "metadata": {},
   "source": [
    "### Conclusion\n",
    "\n",
    "1. Successfully Creation of custom dataset for face detection\n",
    "2. Agumentented the custom dataset using ImageDataGenerator and train the CNN model with 96% accuracy"
   ]
  },
  {
   "cell_type": "code",
   "execution_count": null,
   "id": "f5cff6e1",
   "metadata": {},
   "outputs": [],
   "source": []
  }
 ],
 "metadata": {
  "kernelspec": {
   "display_name": "Python 3 (ipykernel)",
   "language": "python",
   "name": "python3"
  },
  "language_info": {
   "codemirror_mode": {
    "name": "ipython",
    "version": 3
   },
   "file_extension": ".py",
   "mimetype": "text/x-python",
   "name": "python",
   "nbconvert_exporter": "python",
   "pygments_lexer": "ipython3",
   "version": "3.9.13"
  }
 },
 "nbformat": 4,
 "nbformat_minor": 5
}
